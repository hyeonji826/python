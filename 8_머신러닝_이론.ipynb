{
  "nbformat": 4,
  "nbformat_minor": 0,
  "metadata": {
    "colab": {
      "provenance": [],
      "authorship_tag": "ABX9TyP1gOdmV79Ha4625p/e2wT2",
      "include_colab_link": true
    },
    "kernelspec": {
      "name": "python3",
      "display_name": "Python 3"
    },
    "language_info": {
      "name": "python"
    }
  },
  "cells": [
    {
      "cell_type": "markdown",
      "metadata": {
        "id": "view-in-github",
        "colab_type": "text"
      },
      "source": [
        "<a href=\"https://colab.research.google.com/github/hyeonji826/python/blob/Colab/8_%EB%A8%B8%EC%8B%A0%EB%9F%AC%EB%8B%9D_%EC%9D%B4%EB%A1%A0.ipynb\" target=\"_parent\"><img src=\"https://colab.research.google.com/assets/colab-badge.svg\" alt=\"Open In Colab\"/></a>"
      ]
    },
    {
      "cell_type": "markdown",
      "source": [
        "## 1. 인공지능\n",
        "인공지능(AI, Artificial Intelligence)은 컴퓨터나 기계가 인간처럼 생각하고 학습하며 문제를 해결하는 능력을 갖추도록 만드는 기술입니다. AI는 컴퓨터 과학의 한 분야로, 데이터를 활용해 의사결정을 내리거나 예측하는 시스템을 개발하는 것을 목표로 합니다."
      ],
      "metadata": {
        "id": "gQM82XpIjJVV"
      }
    },
    {
      "cell_type": "markdown",
      "source": [
        "### 1. 규칙 기반 알고리즘\n",
        "\n",
        "Rule-based algorithms(규칙 기반 알고리즘)은 명시적으로 정의된 규칙(If-Then-Else 문법 등)을 사용하여 특정 문제를 해결하거나 작업을 수행하는 알고리즘입니다. 이러한 알고리즘은 사람이 직접 작성한 논리와 조건에 따라 작동하며, 데이터를 학습하지 않고도 결과를 도출할 수 있습니다."
      ],
      "metadata": {
        "id": "U26KXLyOjMIo"
      }
    },
    {
      "cell_type": "markdown",
      "source": [
        "### 2. 머신러닝\n",
        "\n",
        "머신러닝(Machine Learning)은 인공지능(AI)의 한 분야로, 컴퓨터가 명시적으로 프로그래밍되지 않아도 데이터에서 패턴을 학습하고, 이를 기반으로 새로운 데이터를 예측하거나 결정을 내리는 기술입니다. 머신러닝은 AI의 핵심 기술로, 우리가 사용하는 많은 기술과 서비스의 기초가 됩니다."
      ],
      "metadata": {
        "id": "PjYGnFl4jOYm"
      }
    },
    {
      "cell_type": "markdown",
      "source": [
        "### 3. 딥러닝\n",
        "\n",
        "딥러닝(Deep Learning)은 머신러닝의 한 분야로, 사람의 뇌에서 영감을 받은 인공신경망(Artificial Neural Networks)을 사용하여 데이터를 학습하고 복잡한 문제를 해결하는 기술입니다. 특히, 딥러닝은 대량의 데이터와 고성능 컴퓨팅 자원을 활용하여 뛰어난 성능을 발휘하며, 이미지, 음성, 자연어 처리 등에서 주로 사용됩니다.\n",
        "\n",
        "<img src=\"https://blog.kakaocdn.net/dna/b6U1os/btsPtpbIwW6/AAAAAAAAAAAAAAAAAAAAAC4pio1k87oYCyaHOBUl1-J9_Uhc2hXx_oK048Wd4vmZ/img.png?credential=yqXZFxpELC7KVnFOS48ylbz2pIh7yKj8&expires=1753973999&allow_ip=&allow_referer=&signature=F1VH2SevpkPCS5d0q882plF3i6A%3D\">"
      ],
      "metadata": {
        "id": "x_sQCOGAjQB1"
      }
    },
    {
      "cell_type": "markdown",
      "source": [
        "## 2. 머신러닝을 먼저 공부해야 하는 이유"
      ],
      "metadata": {
        "id": "o_PLTOjNjVD2"
      }
    },
    {
      "cell_type": "markdown",
      "source": [
        "### 1. 기초 개념 없이 딥러닝은 어렵다\n",
        "딥러닝은 머신러닝의 하위 분야로, 기본적인 개념(예: 과적합, 분산과 편향, 학습/검증/테스트 분리, 평가 지표 등)을 머신러닝에서 먼저 익히지 않으면 딥러닝 모델의 작동 원리나 결과를 해석하기 어렵습니다."
      ],
      "metadata": {
        "id": "1yQfZD1fjXDc"
      }
    },
    {
      "cell_type": "markdown",
      "source": [
        "### 2. 작고 단순한 문제에는 머신러닝이 더 효과적\n",
        "모든 문제에 딥러닝이 필요한 것은 아닙니다. 예를 들어, 고객 이탈 예측이나 단순한 이진 분류 문제에서는 로지스틱 회귀나 결정 트리 같은 머신러닝 모델이 빠르고 정확하며, 데이터도 적게 필요합니다."
      ],
      "metadata": {
        "id": "8D4yoKbAjZDt"
      }
    },
    {
      "cell_type": "markdown",
      "source": [
        "## 3. 머신러닝으로 할 수 있는 일"
      ],
      "metadata": {
        "id": "dMbHW_BYjdGu"
      }
    },
    {
      "cell_type": "markdown",
      "source": [
        "<img src=\"https://blog.kakaocdn.net/dna/bIMZxf/btsPsWOD9CB/AAAAAAAAAAAAAAAAAAAAAGfj_vUaeSrYsmMAZ9OvEYB-KXVYa_IpDSDuFF2F9htd/img.png?credential=yqXZFxpELC7KVnFOS48ylbz2pIh7yKj8&expires=1753973999&allow_ip=&allow_referer=&signature=14XU6kuKzSMCyOyL5qzFsC593Yk%3D\">"
      ],
      "metadata": {
        "id": "zj9VDuOtjfIc"
      }
    },
    {
      "cell_type": "markdown",
      "source": [
        "## 3. 머신러닝의 학습 방법"
      ],
      "metadata": {
        "id": "qLqZz2uEqGcQ"
      }
    },
    {
      "cell_type": "markdown",
      "source": [
        "### 1. 지도학습(Supervised Learning)\n",
        "\n",
        "- 입력 데이터와 해당 데이터의 정답(레이블)이 제공되는 학습 방식입니다.\n",
        "\n",
        "- 주어진 입력에 대해 올바른 출력(레이블)을 예측하는 모델을 학습합니다."
      ],
      "metadata": {
        "id": "lnEFdzyzqIWZ"
      }
    },
    {
      "cell_type": "markdown",
      "source": [
        "### 2. 비지도학습(Unsupervised Learning)\n",
        "\n",
        "- 입력 데이터에는 레이블(정답)이 없으며, 데이터 자체의 구조나 패턴을 학습합니다.\n",
        "\n",
        "- 데이터 내에서 숨겨진 구조를 찾거나 그룹화를 수행합니다."
      ],
      "metadata": {
        "id": "jWJLbLU8qK6_"
      }
    },
    {
      "cell_type": "markdown",
      "source": [
        "### 3. 클러스터링(Clustering)\n",
        "\n",
        "- 비지도학습의 한 분야\n",
        "\n",
        "- 데이터를 비슷한 그룹으로 묶습니다.\n",
        "\n",
        "- 데이터를 더 작은 차원으로 변환하여 시각화하거나 연산 효율성을 높입니다.\n",
        "\n",
        "- 차원축소를 통해 이상치를 제거함"
      ],
      "metadata": {
        "id": "WJZyJD5BqL5e"
      }
    },
    {
      "cell_type": "markdown",
      "source": [
        "### 4. 강화학습(Reinforcement Learning)\n",
        "\n",
        "- 에이전트(Agent)가 환경(Environment)과 상호작용하며 보상(Reward)을 최대화하는 행동을 학습합니다."
      ],
      "metadata": {
        "id": "4nfErvtaqNiW"
      }
    },
    {
      "cell_type": "markdown",
      "source": [
        "### 5. 반지도학습(Semi-Supervised Learning)\n",
        "\n",
        "- 데이터의 일부에만 레이블이 있고, 나머지는 레이블이 없는 상태에서 학습합니다.\n",
        "\n",
        "- 존재하는 레이블을 기반으로 레이블이 존재하지 않는 곳에 레이블을 삽입합니다.\n",
        "\n",
        "- 레이블링된 데이터가 적을 때 유용합니다."
      ],
      "metadata": {
        "id": "MsygwMuOqPmX"
      }
    },
    {
      "cell_type": "markdown",
      "source": [
        "### 6. 자기 지도 학습(Self-Supervised Learning)\n",
        "\n",
        "- 데이터에서 레이블 없이 데이터의 패턴을 분석하여 일부 정보를 예측하도록 학습합니다.\n",
        "\n",
        "- 데이터를 활용하여 자체적으로 레이블 생성합니다."
      ],
      "metadata": {
        "id": "g7eQQpYWqT6m"
      }
    },
    {
      "cell_type": "markdown",
      "source": [
        "### 7. 온라인 학습(Online Learning)\n",
        "\n",
        "- 데이터를 순차적으로 제공하며, 실시간으로 학습하는 방식입니다.\n",
        "\n",
        "- 데이터가 점진적으로 들어오는 환경에 적합합니다.\n",
        "\n",
        "- 대규모 LLM에 적용되는 방식"
      ],
      "metadata": {
        "id": "l5GEpIsPqVqX"
      }
    },
    {
      "cell_type": "markdown",
      "source": [
        "### 8. 트랜스퍼 러닝(Transfer Learning)\n",
        "\n",
        "- 사전 학습된 모델의 지식을 새로운 문제에 적용합니다.\n",
        "\n",
        "- 학습 시간이 단축되며, 적은 데이터로 성능 향상을 할 수 있습니다.\n",
        "\n",
        "- 대규모 AI에 자주 사용된다."
      ],
      "metadata": {
        "id": "YFjakz9HqXE-"
      }
    },
    {
      "cell_type": "markdown",
      "source": [
        "### ※ 모델\n",
        "\n",
        "> AI에서 \"모델\"은 주어진 데이터를 학습하여 패턴과 규칙을 찾아내고, 새로운 데이터에 대해 예측이나 결정을 내리는 수학적 구조 또는 알고리즘입니다.\n",
        "    \n",
        "예를 들어, 사진 속 동물이 강아지인지 고양이인지 구분하거나, 다음에 올 단어를 예측하는 것이 AI 모델의 역할입니다.\n",
        "\n",
        "> 모델은 주로 데이터와 수학적 함수의 조합으로 구성되며, 학습(Training) 과정을 통해 최적의 매개변수(Weights, Biases)를 찾아갑니다.\n",
        "\n",
        "    즉, 모델은 데이터를 보고 문제를 해결하는 AI의 \"두뇌\" 역할을 합니다."
      ],
      "metadata": {
        "id": "t83IH2gVqYj2"
      }
    },
    {
      "cell_type": "markdown",
      "source": [
        "### ※ 학습\n",
        "\n",
        "> AI에서 \"학습\"은 주어진 데이터로부터 패턴과 규칙을 찾아내어, 모델의 매개변수(가중치, 편향 등)를 최적화하는 과정입니다. 이 과정에서 모델은 입력 데이터와 정답(레이블)을 비교하여 오류(오차)를 계산하고, 이를 최소화하기 위해 역전파(Backpropagation)와 최적화 알고리즘을 사용해 매개변수를 반복적으로 조정합니다.\n",
        "\n",
        "    즉, 학습은 모델이 더 정확한 예측이나 결정을 내릴 수 있도록 스스로 개선하는 과정입니다.\n",
        "\n"
      ],
      "metadata": {
        "id": "BlIx28SXqcDJ"
      }
    },
    {
      "cell_type": "markdown",
      "source": [
        "## 4. 머신러닝 프로세스"
      ],
      "metadata": {
        "id": "jdNZgf-6qnA3"
      }
    },
    {
      "cell_type": "markdown",
      "source": [
        "### 1. 문제 정의\n",
        "문제 정의 단계는 머신러닝 프로젝트의 방향을 결정짓는 핵심 과정입니다. 이 단계에서는 해결하고자 하는 문제의 유형을 분류, 회귀, 군집화 등으로 구체화하고, 예측할 대상(타깃)과 입력할 변수(피처)를 정의합니다. 또한, 비즈니스 목적에 따라 성과 지표(KPI)를 설정하고, 데이터의 확보 가능성과 도메인 특성, 제약사항 등을 함께 고려하여 전체적인 목표와 전략을 설계합니다. 이 과정이 명확해야 이후 단계에서도 일관성 있고 효과적인 모델을 개발할 수 있습니다."
      ],
      "metadata": {
        "id": "WiDUKc14qwsG"
      }
    },
    {
      "cell_type": "markdown",
      "source": [
        "### 2. 데이터 전처리 ⭐\n",
        "데이터 전처리는 수집된 원시 데이터를 머신러닝 모델이 학습할 수 있도록 정제하고 가공하는 과정입니다. 이 단계에서는 결측치 처리, 이상치 제거, 범주형 데이터 인코딩, 정규화 또는 표준화, 불필요한 피처 제거 등 다양한 작업이 이루어집니다. 데이터의 품질이 모델의 성능에 큰 영향을 미치기 때문에, 이 과정은 전체 머신러닝 프로세스에서 매우 중요한 단계입니다. 또한, 학습용과 검증용 데이터를 적절히 분리하여 모델이 과적합되지 않도록 준비합니다."
      ],
      "metadata": {
        "id": "g1qB8881qx-W"
      }
    },
    {
      "cell_type": "markdown",
      "source": [
        "### 3. 학습\n",
        "학습 단계에서는 전처리된 데이터를 기반으로 머신러닝 알고리즘을 적용하여 모델을 훈련시킵니다. 이 과정에서는 지도학습(예: 회귀, 분류) 또는 비지도학습(예: 군집화) 등의 방식으로 알고리즘을 선택하고, 하이퍼파라미터를 조정하면서 모델이 주어진 데이터를 잘 학습하도록 만듭니다. 반복적인 학습을 통해 모델은 입력과 출력 사이의 패턴을 파악하며, 이를 통해 새로운 데이터를 예측하거나 분류할 수 있는 능력을 갖추게 됩니다."
      ],
      "metadata": {
        "id": "HjB_ijZJqzle"
      }
    },
    {
      "cell_type": "markdown",
      "source": [
        "### 4. 모델 평가\n",
        "모델 평가 단계에서는 학습된 모델의 성능을 검증용 데이터를 통해 측정하고, 실질적인 효과를 확인합니다. 이때 정확도, 정밀도, 재현율, F1 점수, RMSE 등 문제 유형에 맞는 평가 지표를 사용하며, 과적합 여부도 확인합니다. 평가 결과를 통해 모델이 실제 환경에서 얼마나 잘 작동할 수 있을지를 판단하며, 필요에 따라 다시 데이터 전처리나 학습 과정을 반복할 수 있습니다. 이 단계는 모델을 실제로 활용 가능한 수준으로 개선하는 데 중요한 역할을 합니다."
      ],
      "metadata": {
        "id": "aRB-JeGjq1Wv"
      }
    },
    {
      "cell_type": "markdown",
      "source": [
        "## 5. 머신러닝을 공부하기 위해 필요한 것들"
      ],
      "metadata": {
        "id": "SDIGTDnfyB4h"
      }
    },
    {
      "cell_type": "markdown",
      "source": [
        "- 기초 수학\n",
        "    - 선형대수: 벡터, 행렬\n",
        "    - 통계·확률: 평균, 분산, 확률분포\n",
        "    - 미분: 경사 하강법 이해에 필요\n",
        "- 프로그래밍 (Python)\n",
        "    - 필수 라이브러리: NumPy, Pandas, Matplotlib, Scikit-learn\n",
        "    - 실습은 주로 Jupyter Notebook 또는 Colab 사용\n",
        "- 데이터 전처리 능력\n",
        "    - 결측치/이상치 처리\n",
        "    - 범주형 인코딩, 정규화\n",
        "    - 시각화를 통한 데이터 이해\n",
        "- 머신러닝 알고리즘 이해\n",
        "    - 지도학습: 선형회귀, 로지스틱 회귀, 결정트리, 랜덤포레스트\n",
        "    - 비지도학습: K-means, PCA(주성분 분석) 등\n",
        "- 실습 경험\n",
        "    - Kaggle/Dacon 대회 참가\n",
        "    - 오픈데이터 프로젝트 수행\n",
        "    - 모델 성능 평가 및 개선 연습\n",
        "- 도메인 지식\n",
        "    - 데이터를 해석하고 모델을 잘 적용하려면 산업별 배경지식이 중요\n",
        "    - 예: 의료 AI는 의학 지식, 금융 모델은 회계·경제 지식 필요\n",
        "- 윤리와 법률\n",
        "    - 개인정보 보호법, AI 윤리, 알고리즘 편향 등 고려 필수\n",
        "    - 예: 얼굴 인식 시스템은 사생활 침해 이슈 발생 가능\n",
        "- AI 프로젝트 실무 경험\n",
        "    - 데이터 수집~배포까지의 전체 흐름 이해 필요\n",
        "    - 협업, 버전관리(Git), 모델 배포(Flask, FastAPI 등) 등 실전 역량\n",
        "- 클라우드 & 환경 세팅\n",
        "    - Google Colab, AWS, GCP 등에서 실습 및 배포 경험이 도움이 됨\n",
        "    - 대규모 학습이나 GPU 자원이 필요할 때 필수"
      ],
      "metadata": {
        "id": "wNcmAR90yEGr"
      }
    }
  ]
}