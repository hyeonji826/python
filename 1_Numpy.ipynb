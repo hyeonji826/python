{
  "nbformat": 4,
  "nbformat_minor": 0,
  "metadata": {
    "colab": {
      "provenance": [],
      "authorship_tag": "ABX9TyOxO2VGorm9JJqcQ9ng+e2V",
      "include_colab_link": true
    },
    "kernelspec": {
      "name": "python3",
      "display_name": "Python 3"
    },
    "language_info": {
      "name": "python"
    }
  },
  "cells": [
    {
      "cell_type": "markdown",
      "metadata": {
        "id": "view-in-github",
        "colab_type": "text"
      },
      "source": [
        "<a href=\"https://colab.research.google.com/github/hyeonji826/python/blob/Colab/1_Numpy.ipynb\" target=\"_parent\"><img src=\"https://colab.research.google.com/assets/colab-badge.svg\" alt=\"Open In Colab\"/></a>"
      ]
    },
    {
      "cell_type": "markdown",
      "source": [
        "## 1. 넘파이(Numpy)\n",
        "넘파이(Numpy)는 파이썬에서 사용되는 과학 및 수학 연산을 위한 강력한 라이브러리입니다. 주로 다차원 배열을 다루는 데에 특화되어 있어, 데이터 분석, 머신러닝, 과학 계산 등 다양한 분야에서 널리 사용됩니다. 넘파이 배열은 C 언어로 구현되어 있어 연산이 빠르고 효율적입니다. 특히 큰 데이터셋에서 수치 연산을 수행할 때 뛰어난 성능을 보입니다. 또한 메모리 사용을 최적화하고 효율적으로 관리합니다.\n",
        "\n",
        "```r\n",
        "# 설치\n",
        "pip install numpy\n",
        "\n",
        "import numpy as np\n",
        "```"
      ],
      "metadata": {
        "id": "9rOaPmdMX2u-"
      }
    },
    {
      "cell_type": "code",
      "execution_count": 3,
      "metadata": {
        "id": "PzKrb9YiXuVv"
      },
      "outputs": [],
      "source": [
        "import numpy as np"
      ]
    },
    {
      "cell_type": "markdown",
      "source": [
        "## 2. 넘파이의 주요 특징과 기능"
      ],
      "metadata": {
        "id": "gkty_gOJYgmt"
      }
    },
    {
      "cell_type": "markdown",
      "source": [
        "### 1. 다차원 배열(N-dimensional array)\n",
        "\n",
        "넘파이의 핵심은 다차원 배열인 ndarray입니다. ndarray는 동일한 자료형을 가지는 원소들로 이루어져 있습니다. 다차원 배열은 1차원, 2차원, 3차원 등 다양한 차원을 가질 수 있습니다."
      ],
      "metadata": {
        "id": "JD11b5LuYkjX"
      }
    },
    {
      "cell_type": "code",
      "source": [
        "# 1차원\n",
        "list1 = [1, 2, 3, 4]\n",
        "print(list1)\n",
        "print(type(list1))\n",
        "print(type(list1[0]))\n",
        "\n",
        "# 2차원\n",
        "list2 = [[1, 2, 3, 4], [5, 6, 7, 8]]\n",
        "print(list2)\n",
        "print(type(list2))\n",
        "print(type(list2[0]))"
      ],
      "metadata": {
        "colab": {
          "base_uri": "https://localhost:8080/"
        },
        "id": "cMFojao0Yn1a",
        "outputId": "5dcb8092-72fa-461b-8d45-2e11a8dcc21d"
      },
      "execution_count": 4,
      "outputs": [
        {
          "output_type": "stream",
          "name": "stdout",
          "text": [
            "[1, 2, 3, 4]\n",
            "<class 'list'>\n",
            "<class 'int'>\n",
            "[[1, 2, 3, 4], [5, 6, 7, 8]]\n",
            "<class 'list'>\n",
            "<class 'list'>\n"
          ]
        }
      ]
    },
    {
      "cell_type": "code",
      "source": [
        "import numpy as np\n",
        "\n",
        "# 속도 빠른 리스트 + 리스트에 없는 메소드 사용가능 하니까! -> np 사용\n",
        "ndarr1 = np.array([1, 2, 3, 4])\n",
        "print(ndarr1)\n",
        "print(type(ndarr1)) # <class 'numpy.ndarray'>\n",
        "print(type(ndarr1[0])) # <class 'numpy.int64'>\n",
        "\n",
        "ndarr2 = np.array([[1, 2, 3], [4, 5, 6]])\n",
        "print(ndarr2)\n",
        "print(type(ndarr2)) # <class 'numpy.ndarray'>\n",
        "print(type(ndarr2[0])) # <class 'numpy.ndarray'>"
      ],
      "metadata": {
        "colab": {
          "base_uri": "https://localhost:8080/"
        },
        "id": "AxjbEhXJYtad",
        "outputId": "ba1674a4-9180-49b6-99f5-cb4e5405227a"
      },
      "execution_count": 5,
      "outputs": [
        {
          "output_type": "stream",
          "name": "stdout",
          "text": [
            "[1 2 3 4]\n",
            "<class 'numpy.ndarray'>\n",
            "<class 'numpy.int64'>\n",
            "[[1 2 3]\n",
            " [4 5 6]]\n",
            "<class 'numpy.ndarray'>\n",
            "<class 'numpy.ndarray'>\n"
          ]
        }
      ]
    },
    {
      "cell_type": "markdown",
      "source": [
        "### 2. 리스트와 ndarray 변환\n",
        "\n",
        "데이터 타입을 다른 데이터 타입으로 변환할 수 있습니다. 리스트에서 배열로의 변환은 np.array() 함수를 사용하고, 배열에서 리스트로의 변환은 tolist() 메서드를 사용합니다."
      ],
      "metadata": {
        "id": "B8blth3IYy_N"
      }
    },
    {
      "cell_type": "code",
      "source": [
        "# 리스트를 ndarray로 변환\n",
        "list1 = [1, 2, 3, 4]\n",
        "ndarr1 = np.array(list1)\n",
        "print(ndarr1)\n",
        "print(type(ndarr1))\n",
        "\n",
        "# ndarray를 리스트로 변환\n",
        "list2 = ndarr1.tolist()\n",
        "print(list2)\n",
        "print(type(list2))"
      ],
      "metadata": {
        "colab": {
          "base_uri": "https://localhost:8080/"
        },
        "id": "FMBK30XCY1Mp",
        "outputId": "dfd8ce4e-a64a-4d7a-a51c-b720ba76ae31"
      },
      "execution_count": 6,
      "outputs": [
        {
          "output_type": "stream",
          "name": "stdout",
          "text": [
            "[1 2 3 4]\n",
            "<class 'numpy.ndarray'>\n",
            "[1, 2, 3, 4]\n",
            "<class 'list'>\n"
          ]
        }
      ]
    },
    {
      "cell_type": "markdown",
      "source": [
        "### 3. ndarray의 데이터 타입\n",
        "\n",
        "넘파이의 ndarray는 동일한 자료형을 가지는 원소들로 이루어져 있으며, 다양한 데이터 타입을 지원합니다."
      ],
      "metadata": {
        "id": "eiXwSMuRY66P"
      }
    },
    {
      "cell_type": "code",
      "source": [
        "list1 = [1, 3.14, 'Python', '😊', True]\n",
        "print(list1)\n",
        "print(type(list1))\n",
        "print(type(list1[0]))\n",
        "print(type(list1[1]))\n",
        "print(type(list1[2]))\n",
        "print(type(list1[3]))\n",
        "print(type(list1[4]))\n",
        "\n",
        "ndarr1 = np.array([1, 2, 3, 4])\n",
        "print(ndarr1)\n",
        "print(type(ndarr1))\n",
        "print(type(ndarr1[0]))\n",
        "print(type(ndarr1[1]))\n",
        "print(type(ndarr1[2]))\n",
        "print(type(ndarr1[3]))"
      ],
      "metadata": {
        "colab": {
          "base_uri": "https://localhost:8080/"
        },
        "id": "HJKut6ikY8H-",
        "outputId": "52e95fd0-3256-4045-d9db-1cc4c3f41526"
      },
      "execution_count": 7,
      "outputs": [
        {
          "output_type": "stream",
          "name": "stdout",
          "text": [
            "[1, 3.14, 'Python', '😊', True]\n",
            "<class 'list'>\n",
            "<class 'int'>\n",
            "<class 'float'>\n",
            "<class 'str'>\n",
            "<class 'str'>\n",
            "<class 'bool'>\n",
            "[1 2 3 4]\n",
            "<class 'numpy.ndarray'>\n",
            "<class 'numpy.int64'>\n",
            "<class 'numpy.int64'>\n",
            "<class 'numpy.int64'>\n",
            "<class 'numpy.int64'>\n"
          ]
        }
      ]
    },
    {
      "cell_type": "code",
      "source": [
        "ndarr2 = np.array([1, 2, 3.14, 4])  # 데이터 타입 중 가장 큰 데이터 타입으로 자동 전환됨\n",
        "print(ndarr2)\n",
        "print(type(ndarr2))\n",
        "print(type(ndarr2[0]))\n",
        "print(type(ndarr2[1]))\n",
        "print(type(ndarr2[2]))\n",
        "print(type(ndarr2[3]))\n",
        "\n",
        "ndarr3 = np.array([1, 2, 3.14, True])\n",
        "print(ndarr3)\n",
        "print(type(ndarr3))\n",
        "print(type(ndarr3[0]))\n",
        "print(type(ndarr3[1]))\n",
        "print(type(ndarr3[2]))\n",
        "print(type(ndarr3[3]))\n",
        "\n",
        "ndarr4 = np.array(['1', 2, 3.14, True])\n",
        "print(ndarr4)\n",
        "print(type(ndarr4))\n",
        "print(type(ndarr4[0]))\n",
        "print(type(ndarr4[1]))\n",
        "print(type(ndarr4[2]))\n",
        "print(type(ndarr4[3]))\n",
        "\n",
        "ndarr3 = np.array([1, 2, 3.14, True], dtype=int)\n",
        "print(ndarr3)\n",
        "print(type(ndarr3))\n",
        "print(type(ndarr3[0]))\n",
        "print(type(ndarr3[1]))\n",
        "print(type(ndarr3[2]))\n",
        "print(type(ndarr3[3]))\n",
        "\n",
        "ndarr4 = np.array(['1', 2, 3.14, True], dtype=int)\n",
        "print(ndarr4)\n",
        "print(type(ndarr4))\n",
        "print(type(ndarr4[0]))\n",
        "print(type(ndarr4[1]))\n",
        "print(type(ndarr4[2]))\n",
        "print(type(ndarr4[3]))"
      ],
      "metadata": {
        "colab": {
          "base_uri": "https://localhost:8080/"
        },
        "id": "EXIXd8braLBn",
        "outputId": "b81480e5-35ee-4432-b647-056f0e23813a"
      },
      "execution_count": 8,
      "outputs": [
        {
          "output_type": "stream",
          "name": "stdout",
          "text": [
            "[1.   2.   3.14 4.  ]\n",
            "<class 'numpy.ndarray'>\n",
            "<class 'numpy.float64'>\n",
            "<class 'numpy.float64'>\n",
            "<class 'numpy.float64'>\n",
            "<class 'numpy.float64'>\n",
            "[1.   2.   3.14 1.  ]\n",
            "<class 'numpy.ndarray'>\n",
            "<class 'numpy.float64'>\n",
            "<class 'numpy.float64'>\n",
            "<class 'numpy.float64'>\n",
            "<class 'numpy.float64'>\n",
            "['1' '2' '3.14' 'True']\n",
            "<class 'numpy.ndarray'>\n",
            "<class 'numpy.str_'>\n",
            "<class 'numpy.str_'>\n",
            "<class 'numpy.str_'>\n",
            "<class 'numpy.str_'>\n",
            "[1 2 3 1]\n",
            "<class 'numpy.ndarray'>\n",
            "<class 'numpy.int64'>\n",
            "<class 'numpy.int64'>\n",
            "<class 'numpy.int64'>\n",
            "<class 'numpy.int64'>\n",
            "[1 2 3 1]\n",
            "<class 'numpy.ndarray'>\n",
            "<class 'numpy.int64'>\n",
            "<class 'numpy.int64'>\n",
            "<class 'numpy.int64'>\n",
            "<class 'numpy.int64'>\n"
          ]
        }
      ]
    },
    {
      "cell_type": "markdown",
      "source": [
        "### 4. ndarray 인덱싱과 슬라이싱\n",
        "\n",
        "넘파이의 ndarray는 리스트와 유사하게 인덱싱과 슬라이싱을 지원합니다."
      ],
      "metadata": {
        "id": "AdQStmG4cLig"
      }
    },
    {
      "cell_type": "code",
      "source": [
        "ndarr1 = np.array(['🍓', '🍉', '🍌', '🍒', '🍑'])\n",
        "print(ndarr1)\n",
        "print(ndarr1.shape) # tuple로 나옴! (5,)\n",
        "\n",
        "# 인덱싱  -> 차원이 하나 벗겨짐  벡터 -> 스칼라\n",
        "print(ndarr1[0])\n",
        "print(ndarr1[4])\n",
        "print(ndarr1[-1])\n",
        "print(ndarr1[-2])\n",
        "\n",
        "# 슬라이싱 -> 벡터 형식으로 나옴\n",
        "print(ndarr1[0:3])\n",
        "print(ndarr1[2:])\n",
        "print(ndarr1[:3])"
      ],
      "metadata": {
        "colab": {
          "base_uri": "https://localhost:8080/"
        },
        "id": "JYfGJVNocOEK",
        "outputId": "0a2bdb38-eb62-4108-a002-d6447cf1fee8"
      },
      "execution_count": 9,
      "outputs": [
        {
          "output_type": "stream",
          "name": "stdout",
          "text": [
            "['🍓' '🍉' '🍌' '🍒' '🍑']\n",
            "(5,)\n",
            "🍓\n",
            "🍑\n",
            "🍑\n",
            "🍒\n",
            "['🍓' '🍉' '🍌']\n",
            "['🍌' '🍒' '🍑']\n",
            "['🍓' '🍉' '🍌']\n"
          ]
        }
      ]
    },
    {
      "cell_type": "code",
      "source": [
        "# 2차원 배열\n",
        "ndarr2d = np.array([[1, 2, 3, 4],\n",
        "                    [5, 6, 7, 8],\n",
        "                    [9, 10, 11, 12]])\n",
        "print(ndarr2d)\n",
        "print(ndarr2d.shape)\n",
        "\n",
        "# 0행 가져오기\n",
        "print(ndarr2d[0, :])\n",
        "print(ndarr2d[0,])\n",
        "print(ndarr2d[0])\n",
        "\n",
        "# 0열 가져오기\n",
        "print(ndarr2d[:, 0])"
      ],
      "metadata": {
        "colab": {
          "base_uri": "https://localhost:8080/"
        },
        "id": "9jtJumdEcQpp",
        "outputId": "4b2e759d-411a-41e8-ba05-863fc564d114"
      },
      "execution_count": 10,
      "outputs": [
        {
          "output_type": "stream",
          "name": "stdout",
          "text": [
            "[[ 1  2  3  4]\n",
            " [ 5  6  7  8]\n",
            " [ 9 10 11 12]]\n",
            "(3, 4)\n",
            "[1 2 3 4]\n",
            "[1 2 3 4]\n",
            "[1 2 3 4]\n",
            "[1 5 9]\n"
          ]
        }
      ]
    },
    {
      "cell_type": "code",
      "source": [
        "ndarr1 = np.array([10, 15, 2, 8, 20, 90, 85, 44, 23, 32])\n",
        "idx = [2, 5, 9]\n",
        "print(ndarr1[idx]) # ndarr1[[2, 5, 9]]\n",
        "\n",
        "ndarr2d = np.array([[1, 2, 3, 4],\n",
        "                    [5, 6, 7, 8],\n",
        "                    [9, 10, 11, 12]])\n",
        "print(ndarr2d[[0, 1], :])"
      ],
      "metadata": {
        "colab": {
          "base_uri": "https://localhost:8080/"
        },
        "id": "qqq9QNvKcT8r",
        "outputId": "c4ff4d1f-5f77-4739-d85a-53429a18cdfb"
      },
      "execution_count": 11,
      "outputs": [
        {
          "output_type": "stream",
          "name": "stdout",
          "text": [
            "[ 2 90 32]\n",
            "[[1 2 3 4]\n",
            " [5 6 7 8]]\n"
          ]
        }
      ]
    },
    {
      "cell_type": "code",
      "source": [
        "ndarr1 = np.array(['🍓', '🍉', '🍌', '🍒', '🍑'])\n",
        "sel = [True, False, True, True, False]\n",
        "ndarr1[sel]     # boolean index\n",
        "\n",
        "# sel = [True, False, True]\n",
        "# ndarr1[sel]\n",
        "\n"
      ],
      "metadata": {
        "colab": {
          "base_uri": "https://localhost:8080/"
        },
        "id": "F8BvxRqecWt6",
        "outputId": "42dc6c57-ab04-4472-9194-5f8714d1bebf"
      },
      "execution_count": 13,
      "outputs": [
        {
          "output_type": "execute_result",
          "data": {
            "text/plain": [
              "array(['🍓', '🍌', '🍒'], dtype='<U1')"
            ]
          },
          "metadata": {},
          "execution_count": 13
        }
      ]
    },
    {
      "cell_type": "code",
      "source": [
        "ndarr2d = np.array([[1, 2, 3, 4],\n",
        "                    [5, 6, 7, 8],\n",
        "                    [9, 10, 11, 12]])\n",
        "\n",
        "print(ndarr2d > 7)\n",
        "print(ndarr2d[ndarr2d > 7])"
      ],
      "metadata": {
        "colab": {
          "base_uri": "https://localhost:8080/"
        },
        "id": "jOHxgrotzT39",
        "outputId": "26dff56c-9eeb-4ef0-a2c9-a50398743d30"
      },
      "execution_count": 14,
      "outputs": [
        {
          "output_type": "stream",
          "name": "stdout",
          "text": [
            "[[False False False False]\n",
            " [False False False  True]\n",
            " [ True  True  True  True]]\n",
            "[ 8  9 10 11 12]\n"
          ]
        }
      ]
    },
    {
      "cell_type": "markdown",
      "source": [
        "## 3. 행렬 연산\n",
        "넘파이에서는 다차원 배열인 ndarray를 사용하여 행렬 연산을 수행할 수 있습니다. 행렬 연산은 선형 대수와 관련이 깊어, 데이터 과학, 머신러닝, 통계 등 다양한 분야에서 사용됩니다."
      ],
      "metadata": {
        "id": "FkPli503cdHW"
      }
    },
    {
      "cell_type": "markdown",
      "source": [
        "### ※ 선형 대수\n",
        "\n",
        "> 선형 대수는 벡터와 행렬을 사용해 공간과 변환을 다루는 수학의 한 분야입니다. 쉽게 말해, 여러 숫자를 체계적으로 배열한 벡터(리스트 같은 것)와 행렬(숫자가 격자로 배열된 표)을 이용해 데이터를 표현하고 조작하는 방법입니다. 선형 대수는 컴퓨터 그래픽스, 머신러닝, 물리학, 공학 등 다양한 분야에서 사용됩니다. 예를 들어, 사진에서 색상을 조정하거나, 로봇이 움직일 경로를 계산하거나, AI가 데이터를 분석하는 데도 선형 대수가 필요합니다."
      ],
      "metadata": {
        "id": "Tgt79LW3cfnG"
      }
    },
    {
      "cell_type": "code",
      "source": [
        "a = np.array([[1, 2, 3],\n",
        "              [2, 3, 4]])\n",
        "b = np.array([[3, 4, 5],\n",
        "              [1, 2, 3]])\n",
        "print(a.shape, b.shape)\n",
        "\n",
        "# 행렬 덧셈\n",
        "print(a + b)\n",
        "\n",
        "# 행렬 뺄셈\n",
        "print(a - b)\n",
        "\n",
        "# 행렬 원소별 곱셈\n",
        "print(a * b)\n",
        "\n",
        "# 행렬 나눗셈\n",
        "print(a / b)"
      ],
      "metadata": {
        "colab": {
          "base_uri": "https://localhost:8080/"
        },
        "id": "jyYCcYAkzdKf",
        "outputId": "6fe30626-b39a-475c-8554-9ad0fa7f7f9e"
      },
      "execution_count": 15,
      "outputs": [
        {
          "output_type": "stream",
          "name": "stdout",
          "text": [
            "(2, 3) (2, 3)\n",
            "[[4 6 8]\n",
            " [3 5 7]]\n",
            "[[-2 -2 -2]\n",
            " [ 1  1  1]]\n",
            "[[ 3  8 15]\n",
            " [ 2  6 12]]\n",
            "[[0.33333333 0.5        0.6       ]\n",
            " [2.         1.5        1.33333333]]\n"
          ]
        }
      ]
    },
    {
      "cell_type": "markdown",
      "source": [
        "### ※ 행렬곱\n",
        "\n",
        "> 행렬곱은 두 행렬을 곱해서 새로운 행렬을 만드는 연산으로, 데이터의 변환이나 계산에서 많이 사용됩니다. 행렬은 숫자를 격자로 배열한 것으로, 벡터나 데이터를 다루는 데 유용합니다."
      ],
      "metadata": {
        "id": "59MK9mRTzmp_"
      }
    },
    {
      "cell_type": "markdown",
      "source": [
        "### ※  행렬곱의 규칙\n",
        "1. 첫 번째 행렬의 열과 두 번째 행렬의 행이 같아야 합니다.\n",
        "예: A가 2×3 행렬이고 B가 3×2 행렬이라면, A와 B를 곱할 수 있습니다.\n",
        "2. 결과 행렬은 첫 번째 행렬의 행 개수 × 두 번째 행렬의 열 개수입니다.\n",
        "예: A(2×3) × B(3×2) → 결과는 2×2 행렬.\n",
        "3. 행렬곱은 첫 번째 행렬의 한 행과 두 번째 행렬의 한 열을 각각 곱한 뒤 더해서 계산합니다."
      ],
      "metadata": {
        "id": "ZzEyPLQMzruS"
      }
    },
    {
      "cell_type": "code",
      "source": [
        "ndarr3 = np.array([[1, 2, 3],\n",
        "                   [1, 2, 3],\n",
        "                   [2, 3, 4]])\n",
        "ndarr4 = np.array([[1, 2],\n",
        "                   [3, 4],\n",
        "                   [5, 6]])\n",
        "print(ndarr3.shape)\n",
        "print(ndarr4.shape)\n",
        "\n",
        "print((1*1 + 2*3 + 3*5), (1*2 + 2*4 + 3*6))\n",
        "print((1*1 + 2*3 + 3*5), (1*2 + 2*4 + 3*6))\n",
        "print((2*1 + 3*3 + 4*5), (2*2 + 3*4 + 4*6))\n",
        "\n",
        "print(ndarr3 @ ndarr4)\n",
        "# 행렬 곱셈 또는 벡터 내적을 수행\n",
        "np.dot(ndarr3, ndarr4)"
      ],
      "metadata": {
        "colab": {
          "base_uri": "https://localhost:8080/"
        },
        "id": "okiZ1WynzuwP",
        "outputId": "4c88deed-3af0-4dcc-bdd3-e3cec18e10f3"
      },
      "execution_count": 16,
      "outputs": [
        {
          "output_type": "stream",
          "name": "stdout",
          "text": [
            "(3, 3)\n",
            "(3, 2)\n",
            "22 28\n",
            "22 28\n",
            "31 40\n",
            "[[22 28]\n",
            " [22 28]\n",
            " [31 40]]\n"
          ]
        },
        {
          "output_type": "execute_result",
          "data": {
            "text/plain": [
              "array([[22, 28],\n",
              "       [22, 28],\n",
              "       [31, 40]])"
            ]
          },
          "metadata": {},
          "execution_count": 16
        }
      ]
    },
    {
      "cell_type": "markdown",
      "source": [
        "## 4. 순차적인 값 생성\n",
        "NumPy에서 np.arange() 함수는 일정한 간격으로 숫자들을 생성하는 데 사용됩니다. 이 함수는 Python의 기본 range() 함수와 유사하지만, NumPy 배열을 반환하므로 수학적인 연산이 가능합니다."
      ],
      "metadata": {
        "id": "Z6oUgCGyz4m6"
      }
    },
    {
      "cell_type": "code",
      "source": [
        "arr1 = range(1, 11)\n",
        "print(arr1)     # 순차적인 객체\n",
        "\n",
        "for i in arr1:\n",
        "    print(i, end=' ')\n",
        "\n",
        "arr2 = np.arange(1, 11)\n",
        "print(arr2)\n",
        "print(type(arr2))\n",
        "\n",
        "for i in arr2:\n",
        "    print(i, end=' ')"
      ],
      "metadata": {
        "colab": {
          "base_uri": "https://localhost:8080/"
        },
        "id": "bDbsAz5Fz650",
        "outputId": "26f1af8c-76b5-4f18-d22f-c7eaff3561b5"
      },
      "execution_count": 17,
      "outputs": [
        {
          "output_type": "stream",
          "name": "stdout",
          "text": [
            "range(1, 11)\n",
            "1 2 3 4 5 6 7 8 9 10 [ 1  2  3  4  5  6  7  8  9 10]\n",
            "<class 'numpy.ndarray'>\n",
            "1 2 3 4 5 6 7 8 9 10 "
          ]
        }
      ]
    },
    {
      "cell_type": "markdown",
      "source": [
        "## 5. 정렬\n",
        "NumPy의 np.sort() 함수는 배열을 정렬하는 데 사용됩니다. 이 함수는 기본적으로 원래 배열을 변경하지 않고 정렬된 배열의 복사본을 반환합니다.\n",
        "\n",
        "> python의 sorted 함수와 유사"
      ],
      "metadata": {
        "id": "lEFy0iGiz9iP"
      }
    },
    {
      "cell_type": "code",
      "source": [
        "ndarr1 = np.array([1, 10, 5, 7, 2, 4, 3, 6, 8, 9])\n",
        "print(ndarr1)\n",
        "\n",
        "print(np.sort(ndarr1)) # 오름차순 정렬\n",
        "print(ndarr1)\n",
        "\n",
        "print(np.sort(ndarr1)[::-1]) # 내림차순 정렬"
      ],
      "metadata": {
        "colab": {
          "base_uri": "https://localhost:8080/"
        },
        "id": "3cGz6jPn3rfW",
        "outputId": "067d6770-bc49-4bd9-e9a1-360411dd28dd"
      },
      "execution_count": 18,
      "outputs": [
        {
          "output_type": "stream",
          "name": "stdout",
          "text": [
            "[ 1 10  5  7  2  4  3  6  8  9]\n",
            "[ 1  2  3  4  5  6  7  8  9 10]\n",
            "[ 1 10  5  7  2  4  3  6  8  9]\n",
            "[10  9  8  7  6  5  4  3  2  1]\n",
            "(3, 4)\n"
          ]
        },
        {
          "output_type": "execute_result",
          "data": {
            "text/plain": [
              "array([[ 9, 10, 11, 12],\n",
              "       [ 1,  2,  3,  4],\n",
              "       [ 5,  6,  7,  8]])"
            ]
          },
          "metadata": {},
          "execution_count": 18
        }
      ]
    },
    {
      "cell_type": "code",
      "source": [
        "ndarr2d = np.array([[11, 10, 12, 9],\n",
        "                    [3, 19, 9, 2],\n",
        "                    [5, 6, 7, 8]])\n",
        "print(ndarr2d)\n",
        "\n",
        "# 열 단위로 정렬. 각 열의 값들을 개별적으로 오름차순으로 정렬하며, 행(row)의 순서는 재배열\n",
        "np.sort(ndarr2d, axis=0)"
      ],
      "metadata": {
        "colab": {
          "base_uri": "https://localhost:8080/"
        },
        "id": "Z1ohzFs44fc4",
        "outputId": "448910fd-cdea-4790-84e7-f547bdb42e38"
      },
      "execution_count": 22,
      "outputs": [
        {
          "output_type": "stream",
          "name": "stdout",
          "text": [
            "[[11 10 12  9]\n",
            " [ 3 19  9  2]\n",
            " [ 5  6  7  8]]\n"
          ]
        },
        {
          "output_type": "execute_result",
          "data": {
            "text/plain": [
              "array([[ 3,  6,  7,  2],\n",
              "       [ 5, 10,  9,  8],\n",
              "       [11, 19, 12,  9]])"
            ]
          },
          "metadata": {},
          "execution_count": 22
        }
      ]
    },
    {
      "cell_type": "code",
      "source": [
        "# 행(row) 단위로 정렬. 각 행의 원소들이 개별적으로 오름차순으로 정렬\n",
        "np.sort(ndarr2d, axis=1)"
      ],
      "metadata": {
        "colab": {
          "base_uri": "https://localhost:8080/"
        },
        "id": "ZFIvprQA4XNn",
        "outputId": "71d54297-bef7-4a3f-f3b6-7295fe8c0bb5"
      },
      "execution_count": 23,
      "outputs": [
        {
          "output_type": "execute_result",
          "data": {
            "text/plain": [
              "array([[ 9, 10, 11, 12],\n",
              "       [ 2,  3,  9, 19],\n",
              "       [ 5,  6,  7,  8]])"
            ]
          },
          "metadata": {},
          "execution_count": 23
        }
      ]
    },
    {
      "cell_type": "code",
      "source": [
        "# 행 단위로 정렬한 후, 각 행의 값을 역순으로 정렬하는 동작을 수행\n",
        "np.sort(ndarr2d, axis=1)[:, ::-1]"
      ],
      "metadata": {
        "colab": {
          "base_uri": "https://localhost:8080/"
        },
        "id": "pdWhKj5g4ZPj",
        "outputId": "007985e1-033a-4420-d9bf-06efa9860d13"
      },
      "execution_count": 24,
      "outputs": [
        {
          "output_type": "execute_result",
          "data": {
            "text/plain": [
              "array([[12, 11, 10,  9],\n",
              "       [19,  9,  3,  2],\n",
              "       [ 8,  7,  6,  5]])"
            ]
          },
          "metadata": {},
          "execution_count": 24
        }
      ]
    },
    {
      "cell_type": "code",
      "source": [
        "# axis=1과 동일하게 동작. -1은 배열의 마지막 축을 기준으로 동작하라는 의미. 2차원 배열에서 마지막 축은 axis=1을 나타냄\n",
        "np.sort(ndarr2d, axis=-1)\n",
        "# -1은 마지막 축이다!!!!"
      ],
      "metadata": {
        "colab": {
          "base_uri": "https://localhost:8080/"
        },
        "id": "wGRm3Y-_4awi",
        "outputId": "1dd952bc-bbd3-45ce-8c8e-2773b5290cf3"
      },
      "execution_count": 25,
      "outputs": [
        {
          "output_type": "execute_result",
          "data": {
            "text/plain": [
              "array([[ 9, 10, 11, 12],\n",
              "       [ 2,  3,  9, 19],\n",
              "       [ 5,  6,  7,  8]])"
            ]
          },
          "metadata": {},
          "execution_count": 25
        }
      ]
    }
  ]
}