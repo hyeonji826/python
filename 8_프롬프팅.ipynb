{
  "nbformat": 4,
  "nbformat_minor": 0,
  "metadata": {
    "colab": {
      "provenance": [],
      "authorship_tag": "ABX9TyNDCFve3snaG4bR1nmiM444",
      "include_colab_link": true
    },
    "kernelspec": {
      "name": "python3",
      "display_name": "Python 3"
    },
    "language_info": {
      "name": "python"
    }
  },
  "cells": [
    {
      "cell_type": "markdown",
      "metadata": {
        "id": "view-in-github",
        "colab_type": "text"
      },
      "source": [
        "<a href=\"https://colab.research.google.com/github/hyeonji826/python/blob/Colab/8_%ED%94%84%EB%A1%AC%ED%94%84%ED%8C%85.ipynb\" target=\"_parent\"><img src=\"https://colab.research.google.com/assets/colab-badge.svg\" alt=\"Open In Colab\"/></a>"
      ]
    },
    {
      "cell_type": "markdown",
      "source": [
        "## 1. 프롬프팅\n",
        "프롬프팅(Prompting)은 인공지능, 특히 GPT와 같은 생성형 AI 모델에게 원하는 정보를 효과적으로 얻기 위해 입력 문장을 구성하는 행위입니다. 이는 사용자가 AI에게 어떤 역할을 부여하고, 어떤 작업을 수행해야 하며, 어떤 형식과 맥락으로 응답하길 원하는지를 명확히 전달하는 기술입니다. 잘 구성된 프롬프트는 AI가 더 정확하고 유용한 결과를 생성할 수 있도록 도와주며, 기획·디자인·개발 등 다양한 분야에서 아이디어 발상, 자료 작성, 코드 생성 등에 활용됩니다."
      ],
      "metadata": {
        "id": "6KW8-iyAqAyb"
      }
    },
    {
      "cell_type": "markdown",
      "source": [
        "### 1. 좋은 프롬프팅\n",
        "특징: 구체적이고 명확하며, 역할과 출력 형식을 포함함\n",
        "예시: \"당신은 UX 디자이너입니다. 장애인을 위한 실내 길찾기 앱의 사용자 페르소나 2명을 표 형식으로 만들어주세요. 각각 이름, 나이, 장애 유형, 주요 니즈를 포함해주세요.\""
      ],
      "metadata": {
        "id": "s2spO0nuqHEd"
      }
    },
    {
      "cell_type": "markdown",
      "source": [
        "### 2. 나쁜 프롬프팅\n",
        "특징: 추상적이고 불분명하며, 목적이나 출력 기대치가 없음\n",
        "예시: \"사용자 페르소나 만들어줘\""
      ],
      "metadata": {
        "id": "OSe6b-msqKtc"
      }
    },
    {
      "cell_type": "markdown",
      "source": [
        "## 2. 프롬프팅을 잘하는 5가지 기법"
      ],
      "metadata": {
        "id": "axyWy-KxqNwa"
      }
    },
    {
      "cell_type": "markdown",
      "source": [
        "### 1. 역할을 부여합니다\n",
        "AI에게 어떤 전문가나 관점에서 응답해야 하는지 역할을 설정해줍니다.\n",
        "\n",
        "```\n",
        "너는 파이썬을 10년 가르친 교육 전문가야.  \n",
        "조건문(if문)에 대해 초보자도 이해할 수 있도록 설명해줘.\n",
        "```"
      ],
      "metadata": {
        "id": "DBZYKtPIqPzN"
      }
    },
    {
      "cell_type": "markdown",
      "source": [
        "### 2. 할 일을 명확히 정의합니다\n",
        "무엇을 원하는지 구체적으로 지시하여 AI가 정확한 결과를 도출할 수 있게 합니다.\n",
        "\n",
        "```\n",
        "머신러닝에서 ‘과적합(overfitting)’ 개념을 정의하고,  \n",
        "발생 원인과 해결 방법을 각각 1문장씩 정리해줘.\n",
        "```"
      ],
      "metadata": {
        "id": "AyWQspxnqYer"
      }
    },
    {
      "cell_type": "markdown",
      "source": [
        "### 3. 예시를 제공합니다\n",
        "기대하는 답변의 형태나 스타일을 예시로 보여주면 AI가 더 정확하게 응답할 수 있습니다.\n",
        "\n",
        "```\n",
        "아래 형식에 맞춰 numpy 배열 연산 예시를 만들어줘:\n",
        "\n",
        "- 배열 생성 코드  \n",
        "- 연산 종류 (예: 덧셈, 곱셈 등)  \n",
        "- 출력 결과\n",
        "```"
      ],
      "metadata": {
        "id": "n2Sm6tTeqhWv"
      }
    },
    {
      "cell_type": "markdown",
      "source": [
        "### 4. 단계별로 생각하도록 지시합니다\n",
        "복잡한 작업은 한 번에 묻지 말고 단계적으로 접근하도록 유도하면 더 논리적인 결과를 얻을 수 있습니다.\n",
        "\n",
        "```\n",
        "CNN(합성곱 신경망)에 대해 단계별로 설명해줘:  \n",
        "1단계: 입력 이미지 처리 방식  \n",
        "2단계: 필터와 커널의 역할  \n",
        "3단계: 풀링 계층의 역할  \n",
        "4단계: 분류 계층 연결 방식\n",
        "```"
      ],
      "metadata": {
        "id": "AP-nTbaPqnur"
      }
    },
    {
      "cell_type": "markdown",
      "source": [
        "### 5. 작게 나누어 지시합니다\n",
        "한 번에 너무 많은 작업을 요청하기보다, 단일 요청 단위로 분리하면 더 정밀하고 명확한 응답을 받을 수 있습니다.\n",
        "\n",
        "```\n",
        "우선 파이썬에서 리스트(List)의 개념과 기본 문법만 설명해줘.  \n",
        "그다음 리스트 컴프리헨션을 알려줘.\n",
        "```"
      ],
      "metadata": {
        "id": "PiAeO-TLqvOR"
      }
    },
    {
      "cell_type": "markdown",
      "source": [
        "### 모두 적용한 예\n",
        "\n",
        "```\n",
        "너는 인공지능 입문 과정을 가르치는 파이썬 강사야.  \n",
        "초보자 학생들에게 Scikit-Learn을 이용한 분류(Classification) 모델을 알려주고 싶어.\n",
        "\n",
        "아래 형식에 맞춰 단계별로 설명해줘:\n",
        "\n",
        "- 데이터 로딩\n",
        "- 전처리\n",
        "- 모델 선택 및 학습\n",
        "- 예측 및 평가\n",
        "\n",
        "1단계: sklearn에서 iris 데이터를 불러오고 구조를 확인하는 코드만 먼저 알려줘.  \n",
        "너무 어렵지 않게, 주석도 자세히 달아줘.\n",
        "```"
      ],
      "metadata": {
        "id": "x0m3_phMq2uM"
      }
    },
    {
      "cell_type": "markdown",
      "source": [
        "## 3. ChatGPT\n",
        "ChatGPT는 OpenAI에서 개발한 인공지능 언어 모델로, 사람의 질문에 자연스럽고 논리적인 방식으로 답변할 수 있도록 훈련된 챗봇입니다. 방대한 양의 텍스트 데이터를 기반으로 학습되었으며, 일상 대화는 물론, 글쓰기, 프로그래밍, 요약, 번역 등 다양한 작업을 지원합니다. 사용자는 간단한 질문부터 복잡한 문제 해결까지 자유롭게 대화하듯 입력할 수 있으며, ChatGPT는 이에 대해 맥락을 이해하고 적절한 답변을 제공합니다. 교육, 비즈니스, 개발 등 여러 분야에서 효율적인 정보 제공 도구로 활용되고 있습니다.\n",
        "\n",
        "<image src=\"https://blog.kakaocdn.net/dna/bfLb6r/btsPlJOie2m/AAAAAAAAAAAAAAAAAAAAAG3cSKsEo0_h4psqP9Zce6JBGmZoljQisITjVTfAkaAS/img.png?credential=yqXZFxpELC7KVnFOS48ylbz2pIh7yKj8&expires=1753973999&allow_ip=&allow_referer=&signature=taIFgpwIx%2FkEayG6gpuO23t9SBY%3D\">"
      ],
      "metadata": {
        "id": "7Gd5tLJ8q8QM"
      }
    },
    {
      "cell_type": "markdown",
      "source": [
        "## 4. GPTs\n",
        "GPTs는 OpenAI의 ChatGPT에서 제공하는 맞춤형 챗봇 기능으로, 사용자가 특정 목적이나 성격에 맞게 대화 스타일, 기능, 도구 등을 설정하여 자신만의 GPT 인스턴스를 만들고 활용할 수 있는 시스템입니다. 이를 통해 예를 들어 영어 회화 선생님, 코딩 도우미, 문서 요약기 같은 다양한 역할의 AI를 쉽게 만들고 사용할 수 있으며, 다른 사람들이 만든 GPT를 탐색하거나 공유받아 쓸 수도 있습니다. (ChatGPT의 왼쪽 메뉴에 있는 \"GPT\" 항목)"
      ],
      "metadata": {
        "id": "jfCggZ89rJnX"
      }
    },
    {
      "cell_type": "markdown",
      "source": [
        "## 5. API Plaform\n",
        "OpenAI의 GPT API 플랫폼은 개발자들이 자신의 애플리케이션, 서비스, 웹사이트 등에 GPT 모델(예: GPT-3.5, GPT-4, GPT-4o)을 쉽게 통합할 수 있도록 제공되는 클라우드 기반 인터페이스입니다. 사용자는 OpenAI의 API 플랫폼에 가입한 뒤 API 키를 발급받아, 다양한 언어 처리 작업(대화 생성, 요약, 번역, 코드 생성 등)을 수행하는 GPT 모델을 RESTful 방식으로 호출할 수 있으며, 사용량에 따라 토큰 단위로 요금이 부과됩니다. 이 플랫폼은 텍스트 외에도 이미지, 오디오 등 멀티모달 처리 기능도 지원하며, 대규모 애플리케이션에 적합한 유연하고 확장 가능한 인공지능 활용 기반을 제공합니다."
      ],
      "metadata": {
        "id": "-f1WkaH9rNOa"
      }
    },
    {
      "cell_type": "markdown",
      "source": [
        "### 1. 토큰\n",
        "토큰 = 문장의 조각\n",
        "\n",
        "- GPT 모델은 사람처럼 “단어”를 이해하지 않고 \"토큰 단위\"로 문장을 처리합니다.\n",
        "- 이 토큰은 단어의 일부, 전체 또는 기호일 수 있습니다.\n",
        "\n",
        "```r\n",
        "\"ChatGPT is amazing!\"\n",
        "→ 토큰으로 나누면:\n",
        "[\"Chat\", \"G\", \"PT\", \" is\", \" amazing\", \"!\"] → 총 6개 토큰\n",
        "```\n",
        "- 영어 기준으로는 보통 1단어 = 1~2 토큰\n",
        "- 한글은 보통 1글자당 2~3토큰 가량 됩니다.\n"
      ],
      "metadata": {
        "id": "x9pDNkkfrP7a"
      }
    },
    {
      "cell_type": "markdown",
      "source": [
        "### 2. 요금\n",
        "OpenAI의 API 또는 GPT 엔진을 이용할 때 요금은 입력 토큰 + 출력 토큰을 기준으로 계산됩니다.\n",
        "Per 1M tokens은 100만 토큰을 처리했을 때 얼마를 지불하는가를 말합니다.\n",
        "\n",
        "- GPT-3.5-turbo:\n",
        "    - 입력 1M tokens → $0.50\n",
        "    - 출력 1M tokens → $1.50\n",
        "    - 👉 [토큰 계산기]()\n",
        "\n",
        "즉, 100만 토큰 입력 + 출력이면 총 $2.00 요금이 나올 수 있습니다."
      ],
      "metadata": {
        "id": "oFImILpirbPb"
      }
    },
    {
      "cell_type": "markdown",
      "source": [
        "### 3. openAI API 구조\n",
        "대화 메시지들을 순서대로 보내면, GPT가 그 흐름을 이해하고 응답을 생성하는 방식입니다. 즉, \"역할(role)\" + \"내용(content)\" 쌍들을 배열로 만들어 GPT에게 전달합니다.\n",
        "\n",
        "```\n",
        "{\n",
        "  \"model\": \"gpt-4\",\n",
        "  \"messages\": [\n",
        "    {\n",
        "      \"role\": \"system\",\n",
        "      \"content\": \"너는 초보자를 위한 파이썬 튜터야.\"\n",
        "    },\n",
        "    {\n",
        "      \"role\": \"user\",\n",
        "      \"content\": \"리스트와 튜플의 차이를 알려줘.\"\n",
        "    }\n",
        "  ]\n",
        "}\n",
        "```\n",
        "- system\t| GPT의 성격, 말투, 역할을 설정\n",
        "    예 ) \"너는 친절한 파이썬 선생님이야.\"\n",
        "\n",
        "- user\t| 사용자의 요청 또는 질문\n",
        "    예 ) \"for문은 어떻게 써?\"\n",
        "\n",
        "- assistant |\tGPT의 응답 내용 (선택적으로 포함)\n",
        "\n",
        "    예 ) \"for문은 리스트를 반복할 때 사용해요.\"\n"
      ],
      "metadata": {
        "id": "3kyU06ovrj4C"
      }
    },
    {
      "cell_type": "code",
      "source": [
        "!pip install dotenv\n",
        "!pip install openai"
      ],
      "metadata": {
        "colab": {
          "base_uri": "https://localhost:8080/"
        },
        "collapsed": true,
        "id": "jBrYLcO1yMZ9",
        "outputId": "bbc078b1-5aee-4e5f-c094-d327936dcf18"
      },
      "execution_count": 4,
      "outputs": [
        {
          "output_type": "stream",
          "name": "stdout",
          "text": [
            "Requirement already satisfied: dotenv in /usr/local/lib/python3.11/dist-packages (0.9.9)\n",
            "Requirement already satisfied: python-dotenv in /usr/local/lib/python3.11/dist-packages (from dotenv) (1.1.1)\n",
            "Requirement already satisfied: openai in /usr/local/lib/python3.11/dist-packages (1.94.0)\n",
            "Requirement already satisfied: anyio<5,>=3.5.0 in /usr/local/lib/python3.11/dist-packages (from openai) (4.9.0)\n",
            "Requirement already satisfied: distro<2,>=1.7.0 in /usr/local/lib/python3.11/dist-packages (from openai) (1.9.0)\n",
            "Requirement already satisfied: httpx<1,>=0.23.0 in /usr/local/lib/python3.11/dist-packages (from openai) (0.28.1)\n",
            "Requirement already satisfied: jiter<1,>=0.4.0 in /usr/local/lib/python3.11/dist-packages (from openai) (0.10.0)\n",
            "Requirement already satisfied: pydantic<3,>=1.9.0 in /usr/local/lib/python3.11/dist-packages (from openai) (2.11.7)\n",
            "Requirement already satisfied: sniffio in /usr/local/lib/python3.11/dist-packages (from openai) (1.3.1)\n",
            "Requirement already satisfied: tqdm>4 in /usr/local/lib/python3.11/dist-packages (from openai) (4.67.1)\n",
            "Requirement already satisfied: typing-extensions<5,>=4.11 in /usr/local/lib/python3.11/dist-packages (from openai) (4.14.1)\n",
            "Requirement already satisfied: idna>=2.8 in /usr/local/lib/python3.11/dist-packages (from anyio<5,>=3.5.0->openai) (3.10)\n",
            "Requirement already satisfied: certifi in /usr/local/lib/python3.11/dist-packages (from httpx<1,>=0.23.0->openai) (2025.7.9)\n",
            "Requirement already satisfied: httpcore==1.* in /usr/local/lib/python3.11/dist-packages (from httpx<1,>=0.23.0->openai) (1.0.9)\n",
            "Requirement already satisfied: h11>=0.16 in /usr/local/lib/python3.11/dist-packages (from httpcore==1.*->httpx<1,>=0.23.0->openai) (0.16.0)\n",
            "Requirement already satisfied: annotated-types>=0.6.0 in /usr/local/lib/python3.11/dist-packages (from pydantic<3,>=1.9.0->openai) (0.7.0)\n",
            "Requirement already satisfied: pydantic-core==2.33.2 in /usr/local/lib/python3.11/dist-packages (from pydantic<3,>=1.9.0->openai) (2.33.2)\n",
            "Requirement already satisfied: typing-inspection>=0.4.0 in /usr/local/lib/python3.11/dist-packages (from pydantic<3,>=1.9.0->openai) (0.4.1)\n"
          ]
        }
      ]
    },
    {
      "cell_type": "code",
      "source": [
        "import os\n",
        "from openai import OpenAI\n",
        "from dotenv import load_dotenv"
      ],
      "metadata": {
        "id": "RhGQdPSBquxh"
      },
      "execution_count": 5,
      "outputs": []
    },
    {
      "cell_type": "code",
      "source": [
        "load_dotenv()\n",
        "\n",
        "client = OpenAI(\n",
        "    api_key = os.getenv(\"API_KEY\")\n",
        ")\n"
      ],
      "metadata": {
        "id": "LkSiwF_JyMTp"
      },
      "execution_count": 6,
      "outputs": []
    },
    {
      "cell_type": "code",
      "source": [
        "response = client.chat.completions.create(\n",
        "    model='gpt-4.1-nano-2025-04-14',\n",
        "    messages=[{'role':'user','content':'왜 강남은 강남이라고 할까요?'}],\n",
        "    temperature=0.0\n",
        ")"
      ],
      "metadata": {
        "id": "dKvSNAfa2X1i"
      },
      "execution_count": 7,
      "outputs": []
    },
    {
      "cell_type": "code",
      "source": [
        "print(response)"
      ],
      "metadata": {
        "colab": {
          "base_uri": "https://localhost:8080/"
        },
        "id": "LUu_zAPB3C7w",
        "outputId": "420897e3-5e9b-49b1-87d9-042ae77d3324"
      },
      "execution_count": 8,
      "outputs": [
        {
          "output_type": "stream",
          "name": "stdout",
          "text": [
            "ChatCompletion(id='chatcmpl-BtpeYmpBXf1nhKaqxWfczTcMKkYvb', choices=[Choice(finish_reason='stop', index=0, logprobs=None, message=ChatCompletionMessage(content='강남이라는 이름은 문자 그대로 \"강(江)\"과 \"남(南)\"으로 이루어져 있으며, 이는 \"강의 남쪽\"이라는 의미를 가지고 있습니다. 역사적으로 강남은 한강을 기준으로 남쪽 지역을 가리키는 말로 사용되어 왔습니다. 조선시대부터 서울(한양) 주변의 강남 지역은 농업과 상업이 발달하며 중요한 지역으로 자리 잡았으며, 이 지역이 강남이라는 이름으로 불리게 된 배경이 있습니다.\\n\\n특히 현대에 들어서 강남은 서울의 번화가이자 경제적 중심지로 유명해졌으며, 1960년대 이후 도시 개발과 함께 강남구라는 행정구역이 형성되면서 그 이름이 널리 알려지게 되었습니다. 따라서 \"강남\"이라는 이름은 지리적 위치와 역사적 배경에서 유래된 것이라고 할 수 있습니다.', refusal=None, role='assistant', annotations=[], audio=None, function_call=None, tool_calls=None))], created=1752646294, model='gpt-4.1-nano-2025-04-14', object='chat.completion', service_tier='default', system_fingerprint=None, usage=CompletionUsage(completion_tokens=201, prompt_tokens=17, total_tokens=218, completion_tokens_details=CompletionTokensDetails(accepted_prediction_tokens=0, audio_tokens=0, reasoning_tokens=0, rejected_prediction_tokens=0), prompt_tokens_details=PromptTokensDetails(audio_tokens=0, cached_tokens=0)))\n"
          ]
        }
      ]
    },
    {
      "cell_type": "code",
      "source": [
        "print(response.choices[0].message.content)"
      ],
      "metadata": {
        "colab": {
          "base_uri": "https://localhost:8080/"
        },
        "id": "swBih5Cu3Wuv",
        "outputId": "24884d20-0bdc-40aa-9179-0f32c3d43de7"
      },
      "execution_count": 9,
      "outputs": [
        {
          "output_type": "stream",
          "name": "stdout",
          "text": [
            "강남이라는 이름은 문자 그대로 \"강(江)\"과 \"남(南)\"으로 이루어져 있으며, 이는 \"강의 남쪽\"이라는 의미를 가지고 있습니다. 역사적으로 강남은 한강을 기준으로 남쪽 지역을 가리키는 말로 사용되어 왔습니다. 조선시대부터 서울(한양) 주변의 강남 지역은 농업과 상업이 발달하며 중요한 지역으로 자리 잡았으며, 이 지역이 강남이라는 이름으로 불리게 된 배경이 있습니다.\n",
            "\n",
            "특히 현대에 들어서 강남은 서울의 번화가이자 경제적 중심지로 유명해졌으며, 1960년대 이후 도시 개발과 함께 강남구라는 행정구역이 형성되면서 그 이름이 널리 알려지게 되었습니다. 따라서 \"강남\"이라는 이름은 지리적 위치와 역사적 배경에서 유래된 것이라고 할 수 있습니다.\n"
          ]
        }
      ]
    },
    {
      "cell_type": "markdown",
      "source": [
        "## 6. 프롬프팅을 이용한 기획자료 만들기"
      ],
      "metadata": {
        "id": "K80miYO6vz2q"
      }
    },
    {
      "cell_type": "markdown",
      "source": [
        "### 1. PRD\n",
        "PRD(Product Requirements Document, 제품 요구사항 문서)는 제품이나 서비스가 어떤 기능을 가져야 하는지를 명확히 정의한 문서로, 개발자, 디자이너, 기획자 등 협업자 간의 공통 이해를 돕기 위해 작성됩니다. PRD에는 제품의 목표, 핵심 기능, 사용자 시나리오, 우선순위, 기술적 제약사항, 성능 기준 등이 포함되며, 제품 개발 과정에서 방향성을 잡고 의사결정을 내리는 기준이 됩니다. 잘 정리된 PRD는 프로젝트의 실패 가능성을 줄이고, 명확한 커뮤니케이션을 통해 개발 효율을 높이는 데 중요한 역할을 합니다.\n",
        "\n",
        "\n",
        "\n",
        "**PRD 문서의 주요 구성 요소**\n",
        "1. 제품 개요(Product Overview)\n",
        "    - 제품 또는 기능의 목적, 배경, 해결하고자 하는 문제 등을 간단하게 설명합니다.\n",
        "    - 왜 이 제품(또는 기능)이 필요한지에 대한 맥락을 제공합니다.\n",
        "2. 핵심 기능 목록(Key Features)\n",
        "    - 제품이 제공해야 하는 주요 기능들을 나열합니다.\n",
        "    - 각 기능은 명확하게 측정 가능하고 구현 가능한 단위로 나눠져 있어야 합니다.\n",
        "3. 사용자 시나리오(User Scenarios)\n",
        "    - 실제 사용자가 제품을 어떻게 사용할지를 단계별로 설명합니다.\n",
        "    - 사용자 여정(User Journey)이나 페르소나(Persona) 기반으로 작성되기도 합니다.\n",
        "4. 기능 상세 설명(Feature Requirements)\n",
        "    - 각 기능에 대한 구체적인 동작 방식, 입력값/출력값, 조건, 예외 처리 등을 기술합니다.\n",
        "    - 개발자가 기능을 구현할 수 있도록 상세한 로직이나 화면 흐름을 포함하기도 합니다.\n",
        "5. 우선순위(Prioritization)\n",
        "    - 각 기능의 중요도나 긴급도를 기준으로 Must / Should / Could / Won’t 방식으로 나누기도 합니다.\n",
        "6. 기술적 고려 사항(Technical Considerations)\n",
        "    - 개발에 필요한 API, 외부 서비스 연동, 보안, 성능 요구사항 등을 포함합니다.\n",
        "    - 백엔드/프론트엔드 기술 스택, 데이터베이스 구조, 인프라 요구사항도 들어갈 수 있습니다.\n",
        "7.비기능 요구사항(Non-functional Requirements)\n",
        "    - 성능, 확장성, 접근성, 사용성, 브라우저 호환성 등의 품질 기준을 명시합니다.\n",
        "8. 측정 지표 및 성공 기준(Metrics and KPIs)\n",
        "    - 기능이나 제품이 성공적으로 작동하고 있는지를 판단할 수 있는 정량적 지표를 정의합니다.\n",
        "9. 일정 및 마일스톤(Timeline & Milestones)\n",
        "    - 개발, 테스트, 출시까지의 일정을 간단하게 포함하기도 합니다.\n",
        "\n",
        "```r\n",
        "PRD를 만들기 위한 프롬프트를 작성해줘\n",
        "```\n"
      ],
      "metadata": {
        "id": "-JRNkvNuv02C"
      }
    },
    {
      "cell_type": "markdown",
      "source": [
        "### 2. IA\n",
        "IA(Information Architecture, 정보 구조)는 사용자가 웹사이트나 애플리케이션에서 정보를 쉽고 효율적으로 찾을 수 있도록 콘텐츠와 기능을 체계적으로 분류하고 구조화하는 설계 방식입니다. IA는 메뉴 구조, 페이지 흐름, 내비게이션 시스템 등을 포함하며, 사용자의 목표 달성과 정보 탐색을 돕기 위해 정보의 우선순위, 그룹화, 명칭 등을 전략적으로 정리합니다. 잘 설계된 IA는 사용자 경험(UX)을 향상시키고, 혼란 없이 직관적으로 콘텐츠를 이용할 수 있도록 하는 핵심 요소입니다.\n",
        "\n",
        "\n",
        "\n",
        "**IA의 핵심 구성 요소**\n",
        "-  체계 (Organization Systems)\n",
        "    콘텐츠를 분류하고 그룹화하는 방식입니다.\n",
        "    예: 주제별, 알파벳순, 시간순, 사용자 기반 분류 등.\n",
        "\n",
        "- 라벨링 시스템 (Labeling Systems)\n",
        "    콘텐츠나 기능을 명확하게 표현하기 위한 명칭 체계입니다.\n",
        "    예: “고객센터” vs. “문의하기”, “블로그” vs. “뉴스룸”\n",
        "\n",
        "- 내비게이션 시스템 (Navigation Systems)\n",
        "    사용자가 사이트나 앱 내에서 이동할 수 있도록 안내하는 방식입니다.\n",
        "    예: 상단 메뉴, 햄버거 메뉴, 사이드바, 하단 탭 등.\n",
        "\n",
        "- 검색 시스템 (Search Systems)\n",
        "    사용자가 특정 콘텐츠를 직접 검색할 수 있도록 지원합니다.\n",
        "    예: 자동완성, 필터링, 카테고리 검색 등\n",
        "\n",
        "```r\n",
        "IA를 만들기 위한 프롬프트를 작성해줘\n",
        "```"
      ],
      "metadata": {
        "id": "PvEezT6Twgfb"
      }
    },
    {
      "cell_type": "markdown",
      "source": [
        "### 3. 유스케이스\n",
        "유스케이스(Use Case)는 사용자가 시스템과 상호작용하는 방식을 시나리오 형태로 설명한 것으로, 시스템이 제공해야 할 기능과 그 기능이 사용되는 맥락을 명확하게 보여주는 요구사항 표현 방식입니다. 주로 소프트웨어 설계나 제품 기획에서 사용되며, \"누가(Actor)가 무엇을(Goal) 어떻게(System behavior) 한다\"는 구조로 이루어져 있어 개발자와 디자이너가 사용자 관점에서 기능을 이해하고 구현할 수 있도록 돕습니다. 유스케이스는 시스템의 기능을 사용자 중심으로 구체화해주는 도구로, 기능명세서나 UX 설계의 기초 자료로도 활용됩니다.\n",
        "\n",
        "**유스케이스 구성 요소**\n",
        "- Actor (행위자)\n",
        "    시스템과 상호작용하는 주체 (사람, 외부 시스템 등)\n",
        "    예: 사용자, 관리자, 외부 결제 API 등\n",
        "\n",
        "- Use Case (사용 사례)\n",
        "    행위자가 시스템과 상호작용하여 달성하려는 목표나 기능\n",
        "    예: \"회원가입\", \"상품 주문\", \"리뷰 작성\"\n",
        "\n",
        "- 시나리오(흐름)\n",
        "    사용자가 기능을 수행하는 순서와 시스템의 반응을 기술\n",
        "    주 시나리오(Main Flow)와 예외 시나리오(Exception Flow)로 나뉠 수 있음\n",
        "\n",
        "- 사전 조건(Precondition)\n",
        "    해당 유스케이스가 실행되기 전에 반드시 만족되어야 하는 조건\n",
        "    예: 사용자가 로그인한 상태여야 함\n",
        "\n",
        "- 결과(Postcondition)\n",
        "    유스케이스 실행 후 시스템의 상태 변화\n",
        "    예: 주문이 완료되어 결제 내역이 저장됨\n",
        "\n",
        "```r\n",
        "USE CASE를 만들기 위한 프롬프트를 작성해줘\n",
        "```"
      ],
      "metadata": {
        "id": "79jdryzDw-pX"
      }
    },
    {
      "cell_type": "code",
      "execution_count": null,
      "metadata": {
        "id": "CJtHzgIDp45X"
      },
      "outputs": [],
      "source": []
    }
  ]
}